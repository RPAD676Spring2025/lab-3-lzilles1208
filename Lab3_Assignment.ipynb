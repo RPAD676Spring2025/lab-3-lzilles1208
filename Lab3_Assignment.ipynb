{
  "cells": [
    {
      "cell_type": "markdown",
      "id": "514236ee",
      "metadata": {
        "id": "514236ee"
      },
      "source": [
        "#**Lab 3: Analyzing Data in Python**\n",
        "\n",
        "# RPAD 676: Data Science for the Public Good\n",
        "\n",
        "## Author:\n",
        "## Date:\n",
        "\n",
        "## Instructions\n",
        "In this assignment, you will conduct your own analysis using the provided dataset. Follow the prompts in each section and write the necessary Python code to complete the tasks.\n",
        "\n",
        "**Tasks:**\n",
        "- Load and explore the dataset\n",
        "- Perform basic data cleaning (handling missing values, etc.)\n",
        "- Generate descriptive statistics\n",
        "- Create at least one meaningful visualization\n",
        "- Summarize key insights from your analysis\n",
        "\n",
        "Remember to document your thought process in markdown cells throughout the notebook."
      ]
    },
    {
      "cell_type": "code",
      "execution_count": 35,
      "id": "bbc0bcae",
      "metadata": {
        "colab": {
          "base_uri": "https://localhost:8080/",
          "height": 417
        },
        "id": "bbc0bcae",
        "outputId": "068bcb0e-a972-4b76-fb8d-064e954ef711"
      },
      "outputs": [
        {
          "output_type": "execute_result",
          "data": {
            "text/plain": [
              "   user_id  TimeTaken  UserSatisfaction  Age  DisabilityStatus  \\\n",
              "0        2        919                 4   38                 0   \n",
              "1        9        759                10   78                 0   \n",
              "2       13        853                 8   45                 0   \n",
              "3       15        503                 4   66                 0   \n",
              "4       25        857                 7   69                 0   \n",
              "\n",
              "   DigitalLiteracy  Gender EmploymentStatus EducationLevel InternetAccess  \\\n",
              "0                5  Female          Retired   Some College      Broadband   \n",
              "1                5    Male         Employed    High School      Broadband   \n",
              "2                3  Female       Unemployed       Bachelor      Broadband   \n",
              "3                3    Male          Student       Bachelor      Broadband   \n",
              "4                1  Female         Employed   Some College    Mobile Data   \n",
              "\n",
              "   ErrorRates  RequestedHelp  SatisfactionOtherServices  WillingnessFutureUse  \\\n",
              "0           1              0                          6                    10   \n",
              "1           1              0                          3                     8   \n",
              "2           2              0                          6                    10   \n",
              "3           1              0                          2                     1   \n",
              "4           4              0                          3                     1   \n",
              "\n",
              "   ReceivesSocialServices                                   Agency  \n",
              "0                       0  Department of Health and Human Services  \n",
              "1                       0              Department of Public Safety  \n",
              "2                       0                  Department of Education  \n",
              "3                       0              Department of Public Safety  \n",
              "4                       0                  Department of Education  "
            ],
            "text/html": [
              "\n",
              "  <div id=\"df-da9f4dcf-10d7-4ef2-9f09-9d7195737f87\" class=\"colab-df-container\">\n",
              "    <div>\n",
              "<style scoped>\n",
              "    .dataframe tbody tr th:only-of-type {\n",
              "        vertical-align: middle;\n",
              "    }\n",
              "\n",
              "    .dataframe tbody tr th {\n",
              "        vertical-align: top;\n",
              "    }\n",
              "\n",
              "    .dataframe thead th {\n",
              "        text-align: right;\n",
              "    }\n",
              "</style>\n",
              "<table border=\"1\" class=\"dataframe\">\n",
              "  <thead>\n",
              "    <tr style=\"text-align: right;\">\n",
              "      <th></th>\n",
              "      <th>user_id</th>\n",
              "      <th>TimeTaken</th>\n",
              "      <th>UserSatisfaction</th>\n",
              "      <th>Age</th>\n",
              "      <th>DisabilityStatus</th>\n",
              "      <th>DigitalLiteracy</th>\n",
              "      <th>Gender</th>\n",
              "      <th>EmploymentStatus</th>\n",
              "      <th>EducationLevel</th>\n",
              "      <th>InternetAccess</th>\n",
              "      <th>ErrorRates</th>\n",
              "      <th>RequestedHelp</th>\n",
              "      <th>SatisfactionOtherServices</th>\n",
              "      <th>WillingnessFutureUse</th>\n",
              "      <th>ReceivesSocialServices</th>\n",
              "      <th>Agency</th>\n",
              "    </tr>\n",
              "  </thead>\n",
              "  <tbody>\n",
              "    <tr>\n",
              "      <th>0</th>\n",
              "      <td>2</td>\n",
              "      <td>919</td>\n",
              "      <td>4</td>\n",
              "      <td>38</td>\n",
              "      <td>0</td>\n",
              "      <td>5</td>\n",
              "      <td>Female</td>\n",
              "      <td>Retired</td>\n",
              "      <td>Some College</td>\n",
              "      <td>Broadband</td>\n",
              "      <td>1</td>\n",
              "      <td>0</td>\n",
              "      <td>6</td>\n",
              "      <td>10</td>\n",
              "      <td>0</td>\n",
              "      <td>Department of Health and Human Services</td>\n",
              "    </tr>\n",
              "    <tr>\n",
              "      <th>1</th>\n",
              "      <td>9</td>\n",
              "      <td>759</td>\n",
              "      <td>10</td>\n",
              "      <td>78</td>\n",
              "      <td>0</td>\n",
              "      <td>5</td>\n",
              "      <td>Male</td>\n",
              "      <td>Employed</td>\n",
              "      <td>High School</td>\n",
              "      <td>Broadband</td>\n",
              "      <td>1</td>\n",
              "      <td>0</td>\n",
              "      <td>3</td>\n",
              "      <td>8</td>\n",
              "      <td>0</td>\n",
              "      <td>Department of Public Safety</td>\n",
              "    </tr>\n",
              "    <tr>\n",
              "      <th>2</th>\n",
              "      <td>13</td>\n",
              "      <td>853</td>\n",
              "      <td>8</td>\n",
              "      <td>45</td>\n",
              "      <td>0</td>\n",
              "      <td>3</td>\n",
              "      <td>Female</td>\n",
              "      <td>Unemployed</td>\n",
              "      <td>Bachelor</td>\n",
              "      <td>Broadband</td>\n",
              "      <td>2</td>\n",
              "      <td>0</td>\n",
              "      <td>6</td>\n",
              "      <td>10</td>\n",
              "      <td>0</td>\n",
              "      <td>Department of Education</td>\n",
              "    </tr>\n",
              "    <tr>\n",
              "      <th>3</th>\n",
              "      <td>15</td>\n",
              "      <td>503</td>\n",
              "      <td>4</td>\n",
              "      <td>66</td>\n",
              "      <td>0</td>\n",
              "      <td>3</td>\n",
              "      <td>Male</td>\n",
              "      <td>Student</td>\n",
              "      <td>Bachelor</td>\n",
              "      <td>Broadband</td>\n",
              "      <td>1</td>\n",
              "      <td>0</td>\n",
              "      <td>2</td>\n",
              "      <td>1</td>\n",
              "      <td>0</td>\n",
              "      <td>Department of Public Safety</td>\n",
              "    </tr>\n",
              "    <tr>\n",
              "      <th>4</th>\n",
              "      <td>25</td>\n",
              "      <td>857</td>\n",
              "      <td>7</td>\n",
              "      <td>69</td>\n",
              "      <td>0</td>\n",
              "      <td>1</td>\n",
              "      <td>Female</td>\n",
              "      <td>Employed</td>\n",
              "      <td>Some College</td>\n",
              "      <td>Mobile Data</td>\n",
              "      <td>4</td>\n",
              "      <td>0</td>\n",
              "      <td>3</td>\n",
              "      <td>1</td>\n",
              "      <td>0</td>\n",
              "      <td>Department of Education</td>\n",
              "    </tr>\n",
              "  </tbody>\n",
              "</table>\n",
              "</div>\n",
              "    <div class=\"colab-df-buttons\">\n",
              "\n",
              "  <div class=\"colab-df-container\">\n",
              "    <button class=\"colab-df-convert\" onclick=\"convertToInteractive('df-da9f4dcf-10d7-4ef2-9f09-9d7195737f87')\"\n",
              "            title=\"Convert this dataframe to an interactive table.\"\n",
              "            style=\"display:none;\">\n",
              "\n",
              "  <svg xmlns=\"http://www.w3.org/2000/svg\" height=\"24px\" viewBox=\"0 -960 960 960\">\n",
              "    <path d=\"M120-120v-720h720v720H120Zm60-500h600v-160H180v160Zm220 220h160v-160H400v160Zm0 220h160v-160H400v160ZM180-400h160v-160H180v160Zm440 0h160v-160H620v160ZM180-180h160v-160H180v160Zm440 0h160v-160H620v160Z\"/>\n",
              "  </svg>\n",
              "    </button>\n",
              "\n",
              "  <style>\n",
              "    .colab-df-container {\n",
              "      display:flex;\n",
              "      gap: 12px;\n",
              "    }\n",
              "\n",
              "    .colab-df-convert {\n",
              "      background-color: #E8F0FE;\n",
              "      border: none;\n",
              "      border-radius: 50%;\n",
              "      cursor: pointer;\n",
              "      display: none;\n",
              "      fill: #1967D2;\n",
              "      height: 32px;\n",
              "      padding: 0 0 0 0;\n",
              "      width: 32px;\n",
              "    }\n",
              "\n",
              "    .colab-df-convert:hover {\n",
              "      background-color: #E2EBFA;\n",
              "      box-shadow: 0px 1px 2px rgba(60, 64, 67, 0.3), 0px 1px 3px 1px rgba(60, 64, 67, 0.15);\n",
              "      fill: #174EA6;\n",
              "    }\n",
              "\n",
              "    .colab-df-buttons div {\n",
              "      margin-bottom: 4px;\n",
              "    }\n",
              "\n",
              "    [theme=dark] .colab-df-convert {\n",
              "      background-color: #3B4455;\n",
              "      fill: #D2E3FC;\n",
              "    }\n",
              "\n",
              "    [theme=dark] .colab-df-convert:hover {\n",
              "      background-color: #434B5C;\n",
              "      box-shadow: 0px 1px 3px 1px rgba(0, 0, 0, 0.15);\n",
              "      filter: drop-shadow(0px 1px 2px rgba(0, 0, 0, 0.3));\n",
              "      fill: #FFFFFF;\n",
              "    }\n",
              "  </style>\n",
              "\n",
              "    <script>\n",
              "      const buttonEl =\n",
              "        document.querySelector('#df-da9f4dcf-10d7-4ef2-9f09-9d7195737f87 button.colab-df-convert');\n",
              "      buttonEl.style.display =\n",
              "        google.colab.kernel.accessAllowed ? 'block' : 'none';\n",
              "\n",
              "      async function convertToInteractive(key) {\n",
              "        const element = document.querySelector('#df-da9f4dcf-10d7-4ef2-9f09-9d7195737f87');\n",
              "        const dataTable =\n",
              "          await google.colab.kernel.invokeFunction('convertToInteractive',\n",
              "                                                    [key], {});\n",
              "        if (!dataTable) return;\n",
              "\n",
              "        const docLinkHtml = 'Like what you see? Visit the ' +\n",
              "          '<a target=\"_blank\" href=https://colab.research.google.com/notebooks/data_table.ipynb>data table notebook</a>'\n",
              "          + ' to learn more about interactive tables.';\n",
              "        element.innerHTML = '';\n",
              "        dataTable['output_type'] = 'display_data';\n",
              "        await google.colab.output.renderOutput(dataTable, element);\n",
              "        const docLink = document.createElement('div');\n",
              "        docLink.innerHTML = docLinkHtml;\n",
              "        element.appendChild(docLink);\n",
              "      }\n",
              "    </script>\n",
              "  </div>\n",
              "\n",
              "\n",
              "<div id=\"df-c3f9a61d-870e-4408-8cfb-31539f2a5f9a\">\n",
              "  <button class=\"colab-df-quickchart\" onclick=\"quickchart('df-c3f9a61d-870e-4408-8cfb-31539f2a5f9a')\"\n",
              "            title=\"Suggest charts\"\n",
              "            style=\"display:none;\">\n",
              "\n",
              "<svg xmlns=\"http://www.w3.org/2000/svg\" height=\"24px\"viewBox=\"0 0 24 24\"\n",
              "     width=\"24px\">\n",
              "    <g>\n",
              "        <path d=\"M19 3H5c-1.1 0-2 .9-2 2v14c0 1.1.9 2 2 2h14c1.1 0 2-.9 2-2V5c0-1.1-.9-2-2-2zM9 17H7v-7h2v7zm4 0h-2V7h2v10zm4 0h-2v-4h2v4z\"/>\n",
              "    </g>\n",
              "</svg>\n",
              "  </button>\n",
              "\n",
              "<style>\n",
              "  .colab-df-quickchart {\n",
              "      --bg-color: #E8F0FE;\n",
              "      --fill-color: #1967D2;\n",
              "      --hover-bg-color: #E2EBFA;\n",
              "      --hover-fill-color: #174EA6;\n",
              "      --disabled-fill-color: #AAA;\n",
              "      --disabled-bg-color: #DDD;\n",
              "  }\n",
              "\n",
              "  [theme=dark] .colab-df-quickchart {\n",
              "      --bg-color: #3B4455;\n",
              "      --fill-color: #D2E3FC;\n",
              "      --hover-bg-color: #434B5C;\n",
              "      --hover-fill-color: #FFFFFF;\n",
              "      --disabled-bg-color: #3B4455;\n",
              "      --disabled-fill-color: #666;\n",
              "  }\n",
              "\n",
              "  .colab-df-quickchart {\n",
              "    background-color: var(--bg-color);\n",
              "    border: none;\n",
              "    border-radius: 50%;\n",
              "    cursor: pointer;\n",
              "    display: none;\n",
              "    fill: var(--fill-color);\n",
              "    height: 32px;\n",
              "    padding: 0;\n",
              "    width: 32px;\n",
              "  }\n",
              "\n",
              "  .colab-df-quickchart:hover {\n",
              "    background-color: var(--hover-bg-color);\n",
              "    box-shadow: 0 1px 2px rgba(60, 64, 67, 0.3), 0 1px 3px 1px rgba(60, 64, 67, 0.15);\n",
              "    fill: var(--button-hover-fill-color);\n",
              "  }\n",
              "\n",
              "  .colab-df-quickchart-complete:disabled,\n",
              "  .colab-df-quickchart-complete:disabled:hover {\n",
              "    background-color: var(--disabled-bg-color);\n",
              "    fill: var(--disabled-fill-color);\n",
              "    box-shadow: none;\n",
              "  }\n",
              "\n",
              "  .colab-df-spinner {\n",
              "    border: 2px solid var(--fill-color);\n",
              "    border-color: transparent;\n",
              "    border-bottom-color: var(--fill-color);\n",
              "    animation:\n",
              "      spin 1s steps(1) infinite;\n",
              "  }\n",
              "\n",
              "  @keyframes spin {\n",
              "    0% {\n",
              "      border-color: transparent;\n",
              "      border-bottom-color: var(--fill-color);\n",
              "      border-left-color: var(--fill-color);\n",
              "    }\n",
              "    20% {\n",
              "      border-color: transparent;\n",
              "      border-left-color: var(--fill-color);\n",
              "      border-top-color: var(--fill-color);\n",
              "    }\n",
              "    30% {\n",
              "      border-color: transparent;\n",
              "      border-left-color: var(--fill-color);\n",
              "      border-top-color: var(--fill-color);\n",
              "      border-right-color: var(--fill-color);\n",
              "    }\n",
              "    40% {\n",
              "      border-color: transparent;\n",
              "      border-right-color: var(--fill-color);\n",
              "      border-top-color: var(--fill-color);\n",
              "    }\n",
              "    60% {\n",
              "      border-color: transparent;\n",
              "      border-right-color: var(--fill-color);\n",
              "    }\n",
              "    80% {\n",
              "      border-color: transparent;\n",
              "      border-right-color: var(--fill-color);\n",
              "      border-bottom-color: var(--fill-color);\n",
              "    }\n",
              "    90% {\n",
              "      border-color: transparent;\n",
              "      border-bottom-color: var(--fill-color);\n",
              "    }\n",
              "  }\n",
              "</style>\n",
              "\n",
              "  <script>\n",
              "    async function quickchart(key) {\n",
              "      const quickchartButtonEl =\n",
              "        document.querySelector('#' + key + ' button');\n",
              "      quickchartButtonEl.disabled = true;  // To prevent multiple clicks.\n",
              "      quickchartButtonEl.classList.add('colab-df-spinner');\n",
              "      try {\n",
              "        const charts = await google.colab.kernel.invokeFunction(\n",
              "            'suggestCharts', [key], {});\n",
              "      } catch (error) {\n",
              "        console.error('Error during call to suggestCharts:', error);\n",
              "      }\n",
              "      quickchartButtonEl.classList.remove('colab-df-spinner');\n",
              "      quickchartButtonEl.classList.add('colab-df-quickchart-complete');\n",
              "    }\n",
              "    (() => {\n",
              "      let quickchartButtonEl =\n",
              "        document.querySelector('#df-c3f9a61d-870e-4408-8cfb-31539f2a5f9a button');\n",
              "      quickchartButtonEl.style.display =\n",
              "        google.colab.kernel.accessAllowed ? 'block' : 'none';\n",
              "    })();\n",
              "  </script>\n",
              "</div>\n",
              "\n",
              "    </div>\n",
              "  </div>\n"
            ],
            "application/vnd.google.colaboratory.intrinsic+json": {
              "type": "dataframe",
              "variable_name": "data",
              "summary": "{\n  \"name\": \"data\",\n  \"rows\": 1000,\n  \"fields\": [\n    {\n      \"column\": \"user_id\",\n      \"properties\": {\n        \"dtype\": \"number\",\n        \"std\": 288,\n        \"min\": 1,\n        \"max\": 1000,\n        \"num_unique_values\": 1000,\n        \"samples\": [\n          381,\n          957,\n          971\n        ],\n        \"semantic_type\": \"\",\n        \"description\": \"\"\n      }\n    },\n    {\n      \"column\": \"TimeTaken\",\n      \"properties\": {\n        \"dtype\": \"number\",\n        \"std\": 344,\n        \"min\": 0,\n        \"max\": 2136,\n        \"num_unique_values\": 699,\n        \"samples\": [\n          1546,\n          917,\n          472\n        ],\n        \"semantic_type\": \"\",\n        \"description\": \"\"\n      }\n    },\n    {\n      \"column\": \"UserSatisfaction\",\n      \"properties\": {\n        \"dtype\": \"number\",\n        \"std\": 2,\n        \"min\": 1,\n        \"max\": 10,\n        \"num_unique_values\": 10,\n        \"samples\": [\n          9,\n          10,\n          5\n        ],\n        \"semantic_type\": \"\",\n        \"description\": \"\"\n      }\n    },\n    {\n      \"column\": \"Age\",\n      \"properties\": {\n        \"dtype\": \"number\",\n        \"std\": 17,\n        \"min\": 18,\n        \"max\": 79,\n        \"num_unique_values\": 62,\n        \"samples\": [\n          28,\n          67,\n          38\n        ],\n        \"semantic_type\": \"\",\n        \"description\": \"\"\n      }\n    },\n    {\n      \"column\": \"DisabilityStatus\",\n      \"properties\": {\n        \"dtype\": \"number\",\n        \"std\": 0,\n        \"min\": 0,\n        \"max\": 1,\n        \"num_unique_values\": 2,\n        \"samples\": [\n          1,\n          0\n        ],\n        \"semantic_type\": \"\",\n        \"description\": \"\"\n      }\n    },\n    {\n      \"column\": \"DigitalLiteracy\",\n      \"properties\": {\n        \"dtype\": \"number\",\n        \"std\": 1,\n        \"min\": 1,\n        \"max\": 5,\n        \"num_unique_values\": 5,\n        \"samples\": [\n          3,\n          2\n        ],\n        \"semantic_type\": \"\",\n        \"description\": \"\"\n      }\n    },\n    {\n      \"column\": \"Gender\",\n      \"properties\": {\n        \"dtype\": \"category\",\n        \"num_unique_values\": 3,\n        \"samples\": [\n          \"Female\",\n          \"Male\"\n        ],\n        \"semantic_type\": \"\",\n        \"description\": \"\"\n      }\n    },\n    {\n      \"column\": \"EmploymentStatus\",\n      \"properties\": {\n        \"dtype\": \"category\",\n        \"num_unique_values\": 4,\n        \"samples\": [\n          \"Employed\",\n          \"Student\"\n        ],\n        \"semantic_type\": \"\",\n        \"description\": \"\"\n      }\n    },\n    {\n      \"column\": \"EducationLevel\",\n      \"properties\": {\n        \"dtype\": \"category\",\n        \"num_unique_values\": 4,\n        \"samples\": [\n          \"High School\",\n          \"Graduate\"\n        ],\n        \"semantic_type\": \"\",\n        \"description\": \"\"\n      }\n    },\n    {\n      \"column\": \"InternetAccess\",\n      \"properties\": {\n        \"dtype\": \"category\",\n        \"num_unique_values\": 3,\n        \"samples\": [\n          \"Broadband\",\n          \"Mobile Data\"\n        ],\n        \"semantic_type\": \"\",\n        \"description\": \"\"\n      }\n    },\n    {\n      \"column\": \"ErrorRates\",\n      \"properties\": {\n        \"dtype\": \"number\",\n        \"std\": 2,\n        \"min\": 0,\n        \"max\": 22,\n        \"num_unique_values\": 15,\n        \"samples\": [\n          18,\n          8\n        ],\n        \"semantic_type\": \"\",\n        \"description\": \"\"\n      }\n    },\n    {\n      \"column\": \"RequestedHelp\",\n      \"properties\": {\n        \"dtype\": \"number\",\n        \"std\": 0,\n        \"min\": 0,\n        \"max\": 1,\n        \"num_unique_values\": 2,\n        \"samples\": [\n          1,\n          0\n        ],\n        \"semantic_type\": \"\",\n        \"description\": \"\"\n      }\n    },\n    {\n      \"column\": \"SatisfactionOtherServices\",\n      \"properties\": {\n        \"dtype\": \"number\",\n        \"std\": 2,\n        \"min\": 1,\n        \"max\": 10,\n        \"num_unique_values\": 10,\n        \"samples\": [\n          4,\n          3\n        ],\n        \"semantic_type\": \"\",\n        \"description\": \"\"\n      }\n    },\n    {\n      \"column\": \"WillingnessFutureUse\",\n      \"properties\": {\n        \"dtype\": \"number\",\n        \"std\": 3,\n        \"min\": 1,\n        \"max\": 10,\n        \"num_unique_values\": 10,\n        \"samples\": [\n          2,\n          8\n        ],\n        \"semantic_type\": \"\",\n        \"description\": \"\"\n      }\n    },\n    {\n      \"column\": \"ReceivesSocialServices\",\n      \"properties\": {\n        \"dtype\": \"number\",\n        \"std\": 0,\n        \"min\": 0,\n        \"max\": 1,\n        \"num_unique_values\": 2,\n        \"samples\": [\n          1,\n          0\n        ],\n        \"semantic_type\": \"\",\n        \"description\": \"\"\n      }\n    },\n    {\n      \"column\": \"Agency\",\n      \"properties\": {\n        \"dtype\": \"category\",\n        \"num_unique_values\": 4,\n        \"samples\": [\n          \"Department of Public Safety\",\n          \"Department of Housing\"\n        ],\n        \"semantic_type\": \"\",\n        \"description\": \"\"\n      }\n    }\n  ]\n}"
            }
          },
          "metadata": {},
          "execution_count": 35
        }
      ],
      "source": [
        "# Load necessary libraries\n",
        "import pandas as pd\n",
        "import matplotlib.pyplot as plt\n",
        "import seaborn as sns\n",
        "import scipy.stats as stats\n",
        "import statsmodels.formula.api as smf\n",
        "import statsmodels.api as sm\n",
        "\n",
        "# Load the dataset (replace with actual file path)\n",
        "data = pd.read_csv('digital_services_data.csv')  # Replace with actual dataset file\n",
        "\n",
        "# Display the first few rows\n",
        "data.head()"
      ]
    },
    {
      "cell_type": "markdown",
      "id": "58068f12",
      "metadata": {
        "id": "58068f12"
      },
      "source": [
        "## Descriptive Statistics\n",
        "\n",
        "Compute and interpret basic statistics for the dataset:\n",
        "- Mean, median, mode\n",
        "- Standard deviation, min, max\n",
        "- Any other relevant metrics\n",
        "\n",
        "_Write your code below:_"
      ]
    },
    {
      "cell_type": "markdown",
      "source": [
        "**See mean, std, min, and max below.**"
      ],
      "metadata": {
        "id": "xJOvAae3HQTE"
      },
      "id": "xJOvAae3HQTE"
    },
    {
      "cell_type": "code",
      "execution_count": null,
      "id": "1f067573",
      "metadata": {
        "id": "1f067573",
        "colab": {
          "base_uri": "https://localhost:8080/"
        },
        "outputId": "b28beccf-ee43-4182-826c-70b734cd214c"
      },
      "outputs": [
        {
          "output_type": "stream",
          "name": "stdout",
          "text": [
            "Descriptive Statistics for Numeric Variables:\n",
            "           user_id    TimeTaken  UserSatisfaction          Age  \\\n",
            "count  1000.000000  1000.000000       1000.000000  1000.000000   \n",
            "mean    500.500000  1059.025000          4.946000    49.039000   \n",
            "std     288.819436   344.668741          2.901293    17.891998   \n",
            "min       1.000000     0.000000          1.000000    18.000000   \n",
            "25%     250.750000   830.500000          2.000000    34.000000   \n",
            "50%     500.500000  1064.000000          5.000000    50.000000   \n",
            "75%     750.250000  1274.000000          7.000000    64.000000   \n",
            "max    1000.000000  2136.000000         10.000000    79.000000   \n",
            "\n",
            "       DisabilityStatus  DigitalLiteracy   ErrorRates  RequestedHelp  \\\n",
            "count       1000.000000      1000.000000  1000.000000    1000.000000   \n",
            "mean           0.153000         3.053000     2.387000       0.287000   \n",
            "std            0.360168         1.397907     2.384726       0.452588   \n",
            "min            0.000000         1.000000     0.000000       0.000000   \n",
            "25%            0.000000         2.000000     1.000000       0.000000   \n",
            "50%            0.000000         3.000000     2.000000       0.000000   \n",
            "75%            0.000000         4.000000     4.000000       1.000000   \n",
            "max            1.000000         5.000000    22.000000       1.000000   \n",
            "\n",
            "       SatisfactionOtherServices  WillingnessFutureUse  ReceivesSocialServices  \n",
            "count                1000.000000           1000.000000             1000.000000  \n",
            "mean                    5.606000              5.765000                0.616000  \n",
            "std                     2.873852              3.050095                0.486601  \n",
            "min                     1.000000              1.000000                0.000000  \n",
            "25%                     3.000000              3.000000                0.000000  \n",
            "50%                     6.000000              6.000000                1.000000  \n",
            "75%                     8.000000              8.000000                1.000000  \n",
            "max                    10.000000             10.000000                1.000000  \n"
          ]
        }
      ],
      "source": [
        "# Your code here\n",
        "\n",
        "print(\"Descriptive Statistics for Numeric Variables:\")\n",
        "print(data.describe())"
      ]
    },
    {
      "cell_type": "markdown",
      "source": [
        "**See modes for all columns below.**"
      ],
      "metadata": {
        "id": "wmbF3mIyHIEe"
      },
      "id": "wmbF3mIyHIEe"
    },
    {
      "cell_type": "code",
      "source": [
        "import pandas as pd\n",
        "def find_mode_from(file_path):\n",
        "    df = pd.read_csv(file_path)\n",
        "    return df.mode().iloc[0]\n",
        "\n",
        "mode_all = find_mode_from('/content/digital_services_data.csv')\n",
        "print(f\"Mode of all columns:\\n{mode_all}\")"
      ],
      "metadata": {
        "colab": {
          "base_uri": "https://localhost:8080/"
        },
        "id": "p9DoA5S5GABD",
        "outputId": "9c291afd-ced6-4007-93e6-872b646f38c5"
      },
      "id": "p9DoA5S5GABD",
      "execution_count": null,
      "outputs": [
        {
          "output_type": "stream",
          "name": "stdout",
          "text": [
            "Mode of all columns:\n",
            "user_id                                                1\n",
            "TimeTaken                                          753.0\n",
            "UserSatisfaction                                     1.0\n",
            "Age                                                 45.0\n",
            "DisabilityStatus                                     0.0\n",
            "DigitalLiteracy                                      4.0\n",
            "Gender                                              Male\n",
            "EmploymentStatus                                Employed\n",
            "EducationLevel                               High School\n",
            "InternetAccess                                 Broadband\n",
            "ErrorRates                                           0.0\n",
            "RequestedHelp                                        0.0\n",
            "SatisfactionOtherServices                            9.0\n",
            "WillingnessFutureUse                                10.0\n",
            "ReceivesSocialServices                               1.0\n",
            "Agency                       Department of Public Safety\n",
            "Name: 0, dtype: object\n"
          ]
        }
      ]
    },
    {
      "cell_type": "markdown",
      "source": [
        "## Explanation\n",
        "\n",
        "In this section, I found the mean, median, standard deviation, min, and max for all quantitative data, and the mode for all data. I found that satisfaction with other services, willingness for future use, and age displayed the highest standard deviations. Variation in age made sense since there was likely a wide age range of people who participated in this process, but I was curious as to what factors drove the other two variables."
      ],
      "metadata": {
        "id": "iDU-Bxi4bclU"
      },
      "id": "iDU-Bxi4bclU"
    },
    {
      "cell_type": "markdown",
      "id": "0b62a4a0",
      "metadata": {
        "id": "0b62a4a0"
      },
      "source": [
        "## Data Visualization\n",
        "\n",
        "Create at least one visualization that highlights an interesting aspect of the dataset. You may use bar plots, histograms, scatter plots, or other relevant charts.\n",
        "\n",
        "_Write your code below:_"
      ]
    },
    {
      "cell_type": "code",
      "execution_count": 53,
      "id": "9ef437d3",
      "metadata": {
        "id": "9ef437d3",
        "colab": {
          "base_uri": "https://localhost:8080/",
          "height": 521
        },
        "outputId": "04d52a1b-30e7-473b-d52d-6b7d94e3c25b"
      },
      "outputs": [
        {
          "output_type": "display_data",
          "data": {
            "text/plain": [
              "<Figure size 600x600 with 1 Axes>"
            ],
            "image/png": "[encoded data removed]"
          },
          "metadata": {}
        }
      ],
      "source": [
        "# Pie Chart\n",
        "\n",
        "agency_counts = data['EducationLevel'].value_counts()\n",
        "agency_counts.plot(kind='pie', autopct='%1.1f%%', colors=[\"lightblue\", \"lightgreen\", \"violet\", \"pink\"], figsize=(6,6))\n",
        "plt.title(\"Distribution of Education Level\")\n",
        "plt.ylabel(\"\")\n",
        "plt.show()"
      ]
    },
    {
      "cell_type": "code",
      "source": [
        "# Bar\n",
        "\n",
        "data.groupby('EducationLevel')['Age'].mean().sort_values().plot(kind='bar', color='lightgreen', figsize=(8,6))\n",
        "plt.xlabel(\"EducationLevel\")\n",
        "plt.ylabel(\"Age\")\n",
        "plt.title(\"Age by Educational Level\")\n",
        "plt.xticks(rotation=45)\n",
        "plt.show()"
      ],
      "metadata": {
        "colab": {
          "base_uri": "https://localhost:8080/",
          "height": 628
        },
        "id": "-gV50aK-2ou8",
        "outputId": "46b59572-b637-4690-9381-3984f08d3022"
      },
      "id": "-gV50aK-2ou8",
      "execution_count": 56,
      "outputs": [
        {
          "output_type": "display_data",
          "data": {
            "text/plain": [
              "<Figure size 800x600 with 1 Axes>"
            ],
            "image/png": "[encoded data removed]"
          },
          "metadata": {}
        }
      ]
    },
    {
      "cell_type": "markdown",
      "source": [
        "## Explanation\n",
        "\n",
        "First, I identified variation in education level across responses, finding a relatively even split among most categories. Then, I created a bar chart to identify the mean age of respondents with each education level. The bar charts results illustrated that respondents with each education level had a similar mean age. This indicates that any differences across age were unlikely to be driven by education level."
      ],
      "metadata": {
        "id": "v3xmoJOzcwq0"
      },
      "id": "v3xmoJOzcwq0"
    },
    {
      "cell_type": "markdown",
      "source": [
        "## Inferential Statistics\n",
        "\n",
        "### T-Tests\n",
        "Compare means across two groups using the t-test. Calculate the means, conduct the t-test, and summarize the findings and what they say about the relationship between the variables.\n",
        "\n",
        "_Write your code below:_"
      ],
      "metadata": {
        "id": "ihn5rwm4a10-"
      },
      "id": "ihn5rwm4a10-"
    },
    {
      "cell_type": "code",
      "source": [
        "# Calculate the mean of a specific continuous variable across one categorical variable\n",
        "outcome_variable = 'WillingnessFutureUse'  # Change to the variable of interest\n",
        "categorical_variable = 'DisabilityStatus'  # Change to the desired categorical variable\n",
        "\n",
        "specific_grouped_means = data.groupby(categorical_variable)[outcome_variable].mean().round(2)\n",
        "\n",
        "print(f\"\\nMean of {outcome_variable} grouped by {categorical_variable}:\")\n",
        "print(specific_grouped_means)"
      ],
      "metadata": {
        "id": "dWkoqKvObf5K",
        "colab": {
          "base_uri": "https://localhost:8080/"
        },
        "outputId": "41750575-f33d-4917-b9d6-6ce29540a72b"
      },
      "id": "dWkoqKvObf5K",
      "execution_count": 57,
      "outputs": [
        {
          "output_type": "stream",
          "name": "stdout",
          "text": [
            "\n",
            "Mean of WillingnessFutureUse grouped by DisabilityStatus:\n",
            "DisabilityStatus\n",
            "0    5.73\n",
            "1    5.94\n",
            "Name: WillingnessFutureUse, dtype: float64\n"
          ]
        }
      ]
    },
    {
      "cell_type": "code",
      "source": [
        "# T-Test: Comparing means across two groups\n",
        "\n",
        "t_stat, p_val = stats.ttest_ind(\n",
        "    data[data['DisabilityStatus'] == 1]['DigitalLiteracy'],\n",
        "    data[data['DisabilityStatus'] == 0]['DigitalLiteracy']\n",
        ")\n",
        "print(f\"T-test: Effect of Disability Status on Digital literacy, t-statistic={t_stat:.4f}, p-value={p_val:.4f}\")"
      ],
      "metadata": {
        "colab": {
          "base_uri": "https://localhost:8080/"
        },
        "id": "2HpfeHfKK5V5",
        "outputId": "ca00cc25-3b45-4f8f-8ffc-a8b95b86b01f"
      },
      "id": "2HpfeHfKK5V5",
      "execution_count": 58,
      "outputs": [
        {
          "output_type": "stream",
          "name": "stdout",
          "text": [
            "T-test: Effect of Disability Status on Digital literacy, t-statistic=-1.0752, p-value=0.2825\n"
          ]
        }
      ]
    },
    {
      "cell_type": "markdown",
      "source": [
        "## Explanation\n",
        "\n",
        "Since willingness of future use showed one of the highest standard deviations, I decided to explore whether significant variation existed between people with disabilities versus people without disabilities. The T-test results indicated a small but statistically insignificant difference between willingness of future use and disability status (p>0.05).\n"
      ],
      "metadata": {
        "id": "PyaU9XNU6gBm"
      },
      "id": "PyaU9XNU6gBm"
    },
    {
      "cell_type": "markdown",
      "source": [
        "### ANOVA\n",
        "Compare means across two groups using the t-test. Calculate the means, conduct the t-test, and summarize the findings and what they say about the relationship between the variables.\n",
        "\n",
        "_Write your code below:_"
      ],
      "metadata": {
        "id": "tYWakQc7bc2F"
      },
      "id": "tYWakQc7bc2F"
    },
    {
      "cell_type": "code",
      "source": [
        "# Means across more than two groups\n",
        "\n",
        "outcome_variable = 'Age'  # Change to the variable of interest\n",
        "categorical_variable = 'EmploymentStatus'  # Change to the desired categorical variable\n",
        "\n",
        "specific_grouped_means = data.groupby(categorical_variable)[outcome_variable].mean().round(2)\n",
        "print(f\"\\nMean of {outcome_variable} grouped by {categorical_variable}:\")\n",
        "print(specific_grouped_means)"
      ],
      "metadata": {
        "id": "5u5FkUHFbhJK",
        "colab": {
          "base_uri": "https://localhost:8080/"
        },
        "outputId": "efa33dcd-8786-4dc4-8208-e5ac36fd8202"
      },
      "id": "5u5FkUHFbhJK",
      "execution_count": 49,
      "outputs": [
        {
          "output_type": "stream",
          "name": "stdout",
          "text": [
            "\n",
            "Mean of Age grouped by EmploymentStatus:\n",
            "EmploymentStatus\n",
            "Employed      49.10\n",
            "Retired       51.26\n",
            "Student       46.97\n",
            "Unemployed    48.32\n",
            "Name: Age, dtype: float64\n"
          ]
        }
      ]
    },
    {
      "cell_type": "code",
      "source": [
        "# ANOVA: Comparing time taken across agency types\n",
        "\n",
        "aov = smf.ols(f'{outcome_variable} ~ C({categorical_variable})', data=data).fit()\n",
        "anova_table = sm.stats.anova_lm(aov, typ=2)\n",
        "\n",
        "print(\"\\nANOVA Results:\")\n",
        "print(anova_table)"
      ],
      "metadata": {
        "colab": {
          "base_uri": "https://localhost:8080/"
        },
        "id": "0xt5_XaC7aba",
        "outputId": "f5449edf-bbdc-414e-cb8a-b75bee272a31"
      },
      "id": "0xt5_XaC7aba",
      "execution_count": 50,
      "outputs": [
        {
          "output_type": "stream",
          "name": "stdout",
          "text": [
            "\n",
            "ANOVA Results:\n",
            "                            sum_sq     df         F    PR(>F)\n",
            "C(EmploymentStatus)    1181.736041    3.0  1.231355  0.297054\n",
            "Residual             318621.742959  996.0       NaN       NaN\n"
          ]
        }
      ]
    },
    {
      "cell_type": "code",
      "source": [
        "# Conduct post hoc test (Tukey HSD) if ANOVA is significant\n",
        "alpha = 0.05\n",
        "if anova_table['PR(>F)'][0] < alpha:\n",
        "    print(\"\\nANOVA is significant. Conducting post hoc Tukey HSD test:\")\n",
        "    tukey_results = pairwise_tukeyhsd(endog=data[outcome_variable], groups=data[categorical_variable], alpha=alpha)\n",
        "    print(tukey_results)\n",
        "else:\n",
        "    print(\"\\nANOVA is not significant. No post hoc test needed.\")"
      ],
      "metadata": {
        "colab": {
          "base_uri": "https://localhost:8080/"
        },
        "id": "2bknvjaI7qk-",
        "outputId": "6cefcecd-dede-467d-e582-14e88b16e9bf"
      },
      "id": "2bknvjaI7qk-",
      "execution_count": 51,
      "outputs": [
        {
          "output_type": "stream",
          "name": "stdout",
          "text": [
            "\n",
            "ANOVA is not significant. No post hoc test needed.\n"
          ]
        },
        {
          "output_type": "stream",
          "name": "stderr",
          "text": [
            "<ipython-input-51-99da7c575cf6>:3: FutureWarning: Series.__getitem__ treating keys as positions is deprecated. In a future version, integer keys will always be treated as labels (consistent with DataFrame behavior). To access a value by position, use `ser.iloc[pos]`\n",
            "  if anova_table['PR(>F)'][0] < alpha:\n"
          ]
        }
      ]
    },
    {
      "cell_type": "markdown",
      "source": [
        "## Explanation\n",
        "\n",
        "Since age had a relatively high standard deviation, I was curious to see whether age correlated with other demographic factors that we might typically associate with it, including employment status. Common sense tells us that the mean age of students would be significantly lower than retirees, and people who are employed or unemployed may fall in the middle. However, the ANOVA between these two variables was insignificant, indicating that respondents showed similar educational attainment levels across all ages."
      ],
      "metadata": {
        "id": "YmFWNCJOd6_U"
      },
      "id": "YmFWNCJOd6_U"
    },
    {
      "cell_type": "markdown",
      "id": "393ad963",
      "metadata": {
        "id": "393ad963"
      },
      "source": [
        "## Key Insights\n",
        "\n",
        "Summarize your findings in a short paragraph. What patterns or trends did you observe? Were there any surprises in the data? How might these insights be useful?\n",
        "\n",
        "_Write your response below:_\n",
        "\n",
        "I expected to find more relationships when exploring this data, so I found the lack of relationships in the content above particularly interesting. Traditional patterns, such as a clear correlation between age and employment status, or to a lesser extent, age and education level, were absent. This suggests that the dataset may not be fully representative of real-world distributions, as age group distribution appears similar across categories where we would typically see more distinctions.\n",
        "\n",
        "This raises questions about how the data’s composition affects our ability to observe the impacts of education or employment status. Does this concentration limit our ability to draw broad conclusions, or does it actually make these relationships clearer by isolating the effects of age? Additionally, I found it unclear what factors drove the higher variance in certain variables if demographic characteristics like age or educational attainment were not primary contributors."
      ]
    }
  ],
  "metadata": {
    "colab": {
      "provenance": [],
      "collapsed_sections": [
        "58068f12"
      ]
    },
    "language_info": {
      "name": "python"
    },
    "kernelspec": {
      "name": "python3",
      "display_name": "Python 3"
    }
  },
  "nbformat": 4,
  "nbformat_minor": 5
}